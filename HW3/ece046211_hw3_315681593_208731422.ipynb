{
  "cells": [
    {
      "cell_type": "markdown",
      "metadata": {
        "id": "dzV9wsJ5pGhf"
      },
      "source": [
        "# <img src=\"https://img.icons8.com/bubbles/50/000000/mind-map.png\" style=\"height:50px;display:inline\"> ECE 046211 - Technion - Deep Learning\n",
        "---\n",
        "\n",
        "## HW3 - Sequential Tasks and Training Methods\n",
        "---"
      ]
    },
    {
      "cell_type": "markdown",
      "metadata": {
        "id": "bq2c8X93pGhh"
      },
      "source": [
        "### <img src=\"https://img.icons8.com/clouds/96/000000/keyboard.png\" style=\"height:50px;display:inline\"> Keyboard Shortcuts\n",
        "---\n",
        "* Run current cell: **Ctrl + Enter**\n",
        "* Run current cell and move to the next: **Shift + Enter**\n",
        "* Show lines in a code cell: **Esc + L**\n",
        "* View function documentation: **Shift + Tab** inside the parenthesis or `help(name_of_module)`\n",
        "* New cell below: **Esc + B**\n",
        "* Delete cell: **Esc + D, D** (two D's)"
      ]
    },
    {
      "cell_type": "markdown",
      "metadata": {
        "id": "vZZybn3NpGhh"
      },
      "source": [
        "### <img src=\"https://img.icons8.com/bubbles/50/000000/information.png\" style=\"height:50px;display:inline\"> Students Information\n",
        "---\n",
        "* Fill in\n",
        "\n",
        "|Name     |Campus Email| ID  |\n",
        "|---------|--------------------------------|----------|\n",
        "|Nir Tevet| nir.tevet@campus.technion.ac.il| 208731422|\n",
        "|Gal Granot| gal.granot@campus.technion.ac.il| 315681593|\n"
      ]
    },
    {
      "cell_type": "markdown",
      "metadata": {
        "id": "dDK5zqhdpGhi"
      },
      "source": [
        "### <img src=\"https://img.icons8.com/bubbles/50/000000/upload-to-cloud.png\" style=\"height:50px;display:inline\"> Submission Guidelines\n",
        "---\n",
        "* Maximal garde: 100.\n",
        "* Submission only in **pairs**.\n",
        "    * Please make sure you have registered your group in Moodle (there is a group creation component on the Moodle where you need to create your group and assign members).\n",
        "* **No handwritten submissions.** You can choose whether to answer in a Markdown cell in this notebook or attach a PDF with your answers.\n",
        "* <a style='color:red'> SAVE THE NOTEBOOKS WITH THE OUTPUT, CODE CELLS THAT WERE NOT RUN WILL NOT GET ANY POINTS! </a>\n",
        "* What you have to submit:\n",
        "    * If you have answered the questions in the notebook, you should submit this file only, with the name: `ece046211_hw3_id1_id2.ipynb`.\n",
        "    * If you answered the questionss in a different file you should submit a `.zip` file with the name `ece046211_hw3_id1_id2.zip` with content:\n",
        "        * `ece046211_hw3_id1_id2.ipynb` - the code tasks\n",
        "        * `ece046211_hw3_id1_id2.pdf` - answers to questions.\n",
        "    * No other file-types (`.py`, `.docx`...) will be accepted.\n",
        "* Submission on the course website (Moodle).\n",
        "* **Latex in Colab** - in some cases, Latex equations may no be rendered. To avoid this, make sure to not use *bullets* in your answers (\"* some text here with Latex equations\" -> \"some text here with Latex equations\")."
      ]
    },
    {
      "cell_type": "markdown",
      "metadata": {
        "id": "pmSj_UufpGhi"
      },
      "source": [
        "### <img src=\"https://img.icons8.com/dusk/64/000000/online.png\" style=\"height:50px;display:inline\"> Working Online and Locally\n",
        "---\n",
        "* You can choose your working environment:\n",
        "    1. `Jupyter Notebook`, **locally** with <a href=\"https://www.anaconda.com/distribution/\">Anaconda</a> or **online** on <a href=\"https://colab.research.google.com/\">Google Colab</a>\n",
        "        * Colab also supports running code on GPU, so if you don't have one, Colab is the way to go. To enable GPU on Colab, in the menu: `Runtime`$\\rightarrow$ `Change Runtime Type` $\\rightarrow$`GPU`.\n",
        "    2. Python IDE such as <a href=\"https://www.jetbrains.com/pycharm/\">PyCharm</a> or <a href=\"https://code.visualstudio.com/\">Visual Studio Code</a>.\n",
        "        * Both allow editing and running Jupyter Notebooks.\n",
        "\n",
        "* Please refer to `Setting Up the Working Environment.pdf` on the Moodle or our GitHub (https://github.com/taldatech/ee046211-deep-learning) to help you get everything installed.\n",
        "* If you need any technical assistance, please go to our Piazza forum (`hw3` folder) and describe your problem (preferably with images)."
      ]
    },
    {
      "cell_type": "markdown",
      "metadata": {
        "id": "nlp1Fp4ppGhj"
      },
      "source": [
        "### <img src=\"https://img.icons8.com/bubbles/50/000000/checklist.png\" style=\"height:50px;display:inline\"> Agenda\n",
        "---\n",
        "* [Part 1 - Theory](#-Part-1---Theory)\n",
        "    * [Q1 - Transformers Efficiency](#-Question-1---Transformers-Efficeincy)\n",
        "    * [Q2 - Preventing Variance Explosion](#-Question-2---Preventing-Variance-Explosion)\n",
        "    * [Q3 - Recurrent Neural Networks](#-Question-3---Recurrent-Neural-Networks)\n",
        "* [Part 2 - Code Assignments - Sequence-to-Sequence with Transformers](#-Part-2---Code-Assignments)\n",
        "    * [Task 1 - Loading and Observing the Data](#-Task-1----Loading-and-Observing-the-Data)\n",
        "    * [Task 2 - Preparing the Data - Separating to Inputs and Targets](#-Task-2----Preparing-the--Data---Separating-to-Inputs-and-Targets)\n",
        "    * [Task 3 - Define Hyperparameters and Initialize the Model](#-Task-3----Define-Hyperparameters-and-Initialize-the-Model)\n",
        "    * [Task 4 - Train and Evaluate the Language Model](#-Task-4----Train-and-Evaluate-the-Language-Model)\n",
        "    * [Task 5 - Generate Sentences](#-Task-5----Generate-Sentences)\n",
        "* [Credits](#-Credits)"
      ]
    },
    {
      "cell_type": "markdown",
      "metadata": {
        "id": "XKtSiQX_pGhj"
      },
      "source": [
        "### <img src=\"https://img.icons8.com/cute-clipart/64/000000/ball-point-pen.png\" style=\"height:50px;display:inline\"> Part 1 - Theory\n",
        "---\n",
        "* You can choose whether to answser these straight in the notebook (Markdown + Latex) or use another editor (Word, LyX, Latex, Overleaf...) and submit an additional PDF file, **but no handwritten submissions**.\n",
        "* You can attach additional figures (drawings, graphs,...) in a separate PDF file, just make sure to refer to them in your answers.\n",
        "\n",
        "* $\\large\\LaTeX$ <a href=\"https://kapeli.com/cheat_sheets/LaTeX_Math_Symbols.docset/Contents/Resources/Documents/index\">Cheat-Sheet</a> (to write equations)\n",
        "    * <a href=\"http://tug.ctan.org/info/latex-refsheet/LaTeX_RefSheet.pdf\">Another Cheat-Sheet</a>"
      ]
    },
    {
      "cell_type": "markdown",
      "metadata": {
        "id": "RsqSFZG1pGhj"
      },
      "source": [
        "## <img src=\"https://img.icons8.com/clouds/100/000000/question-mark.png\" style=\"height:50px;display:inline\"> Question 1 - Transformers Efficeincy\n",
        "---\n",
        "For a series of $T$ values, each with $d$ features $X \\in \\mathbb{R}^{T \\times d}$, a Self-Attention (SA) layer with parameters $$W_Q \\in \\mathbb{R}^{d \\times D}, W_K \\in \\mathbb{R}^{d \\times D}, W_V \\in \\mathbb{R}^{d \\times M} $$ is defined as:\n",
        "\n",
        "(1) $Q=XW_Q, K=XW_K, V=XW_V$.\n",
        "\n",
        "(2) $SA(X)=V'=\\text{softmax}\\left(\\frac{QK^T}{\\sqrt{D}}\\right)V$.\n",
        "\n",
        "We will now look at an Encoder-Decoder Transformer.\n",
        "\n",
        "1. Give an example usage for this kind of architecture.\n",
        "2. Shortly explain each of the following component: Positional Encoding, AddNorm, Feed Forward.\n",
        "3. Exaplain the difference between the Encoder and Decoder components.\n",
        "4. One of the issues in computing SA is the computation speed and the memory required for this computation. How many multiplications are required for calculation of a single SA layer, as defined in Equation 2 (without the computation needed for Equation 1).\n",
        "5. We will now see how to make this computation more efficient. We define a similarity function between the vectors $q \\in \\mathbb{R}^{1 \\times D}$ and $k \\in \\mathbb{R}^{1 \\times D}$ as follows: $$ \\text{sim}(q,k)=\\exp\\left(\\frac{qk^T}{\\sqrt{D}}\\right). $$ Show that the expression for the $i^{th}$ value in the series ($1 \\leq i \\leq T$):<br>\n",
        "   (3) $ V_i'=\\frac{\\sum_{j=1}^{T}\\text{sim}(Q_i, K_j)V_j}{\\sum_{r=1}^{T}\\text{sim}(Q_i, K_r)}$\n",
        "   is equivalent to Equation 2 above, where a matrix with index $i$ denotes the $i^{th}$ row in the matrix. For example, $Q_i$ denotes the vector of the $i^{th}$ row of the matrix $Q$."
      ]
    },
    {
      "cell_type": "markdown",
      "metadata": {
        "id": "2m9a24u_GRs6"
      },
      "source": [
        "## <img src=\"https://img.icons8.com/clouds/100/000000/question-mark.png\" style=\"height:50px;display:inline\"> Question 2 - Preventing Variance Explosion\n",
        "---\n",
        "This question relates to lectures 8-9 (from slide 7):\n",
        "\n",
        "Find an initializtion scheme such that $$ \\forall l, i,: \\text{(1) } \\mathbb{E}\\left[F_l(u_l)|u_l\\right]=0, \\text{ (2) } Var(u_l[i]) = 1, $$ assuming skip connections: $u_{l+1} = u_l + F_l(u_l)$ with a single skip $F_l(u_l)=W_l\\phi(u_l)+b_l$ and the activation is ReLU: $\\phi(x) = \\text{ReLU}(x) = \\max(0,x)$."
      ]
    },
    {
      "cell_type": "markdown",
      "metadata": {
        "id": "ZpLkUVYAGRs7"
      },
      "source": [
        "## <img src=\"https://img.icons8.com/clouds/100/000000/question-mark.png\" style=\"height:50px;display:inline\"> Question 3 - Recurrent Neural Networks\n",
        "---\n",
        "You are given a recurrent/feedback neural network with LReLU activations $\\phi(u) = \\max[pu,u]$, with input $x_t$ and a representation $v_t \\in \\mathbb{R}^d$ that is updated as follows:\n",
        "$$ \\forall \\tau=1,2,...t\\:: v_{\\tau}=\\phi(u_{\\tau})\\:, u_{\\tau} = Wv_{\\tau - 1} + B x_{\\tau},$$\n",
        "from initialization $v_0$, and outputs $\\hat{y}_t=Cv_t$. The network is trained with GD on a single long series $\\{x_{\\tau}, y_{\\tau}\\}_{\\tau=1}^t$ with a cost function $\\ell(y_t, \\hat{y}_t)$ over the last term in the series.\n",
        "\n",
        "1. Calculate the exact gradient $\\frac{\\partial \\ell}{\\partial W[i,j]}$ using Backpropagation through time (BPTT).\n",
        "2. Recall that calculating the gradient using the method in the previous section there are two issues for $t \\to \\infty$: (1) the required computational resources grow indefinitely, and (2) the gradients explode or vanish. For each problem: explain it, provide an example for a method to alleviate it and describe any limitations of this method."
      ]
    },
    {
      "cell_type": "markdown",
      "metadata": {
        "id": "7D-14iM7pGhm"
      },
      "source": [
        "### <img src=\"https://img.icons8.com/officel/80/000000/code.png\" style=\"height:50px;display:inline\"> Part 2 - Code Assignments\n",
        "---\n",
        "* You must write your code in this notebook and save it with the output of all of the code cells.\n",
        "* Additional text can be added in Markdown cells.\n",
        "* You can use any other IDE you like (PyCharm, VSCode...) to write/debug your code, but for the submission you must copy it to this notebook, run the code and save the notebook with the output."
      ]
    },
    {
      "cell_type": "code",
      "execution_count": null,
      "metadata": {
        "id": "CLcKRKjeGRs8",
        "outputId": "091ab1e8-75af-49a5-f626-a28428daa3b9"
      },
      "outputs": [
        {
          "name": "stdout",
          "output_type": "stream",
          "text": [
            "Requirement already satisfied: torchdata in /home/nirt/miniconda3/envs/detection_tools/lib/python3.8/site-packages (0.7.1)\n",
            "Requirement already satisfied: urllib3>=1.25 in /home/nirt/miniconda3/envs/detection_tools/lib/python3.8/site-packages (from torchdata) (2.1.0)\n",
            "Requirement already satisfied: requests in /home/nirt/miniconda3/envs/detection_tools/lib/python3.8/site-packages (from torchdata) (2.31.0)\n",
            "Requirement already satisfied: torch>=2 in /home/nirt/miniconda3/envs/detection_tools/lib/python3.8/site-packages (from torchdata) (2.3.1)\n",
            "Requirement already satisfied: filelock in /home/nirt/miniconda3/envs/detection_tools/lib/python3.8/site-packages (from torch>=2->torchdata) (3.13.1)\n",
            "Requirement already satisfied: typing-extensions>=4.8.0 in /home/nirt/miniconda3/envs/detection_tools/lib/python3.8/site-packages (from torch>=2->torchdata) (4.12.2)\n",
            "Requirement already satisfied: sympy in /home/nirt/miniconda3/envs/detection_tools/lib/python3.8/site-packages (from torch>=2->torchdata) (1.12)\n",
            "Requirement already satisfied: networkx in /home/nirt/miniconda3/envs/detection_tools/lib/python3.8/site-packages (from torch>=2->torchdata) (3.1)\n",
            "Requirement already satisfied: jinja2 in /home/nirt/miniconda3/envs/detection_tools/lib/python3.8/site-packages (from torch>=2->torchdata) (3.1.3)\n",
            "Requirement already satisfied: fsspec in /home/nirt/miniconda3/envs/detection_tools/lib/python3.8/site-packages (from torch>=2->torchdata) (2023.12.2)\n",
            "Requirement already satisfied: nvidia-cuda-nvrtc-cu12==12.1.105 in /home/nirt/miniconda3/envs/detection_tools/lib/python3.8/site-packages (from torch>=2->torchdata) (12.1.105)\n",
            "Requirement already satisfied: nvidia-cuda-runtime-cu12==12.1.105 in /home/nirt/miniconda3/envs/detection_tools/lib/python3.8/site-packages (from torch>=2->torchdata) (12.1.105)\n",
            "Requirement already satisfied: nvidia-cuda-cupti-cu12==12.1.105 in /home/nirt/miniconda3/envs/detection_tools/lib/python3.8/site-packages (from torch>=2->torchdata) (12.1.105)\n",
            "Requirement already satisfied: nvidia-cudnn-cu12==8.9.2.26 in /home/nirt/miniconda3/envs/detection_tools/lib/python3.8/site-packages (from torch>=2->torchdata) (8.9.2.26)\n",
            "Requirement already satisfied: nvidia-cublas-cu12==12.1.3.1 in /home/nirt/miniconda3/envs/detection_tools/lib/python3.8/site-packages (from torch>=2->torchdata) (12.1.3.1)\n",
            "Requirement already satisfied: nvidia-cufft-cu12==11.0.2.54 in /home/nirt/miniconda3/envs/detection_tools/lib/python3.8/site-packages (from torch>=2->torchdata) (11.0.2.54)\n",
            "Requirement already satisfied: nvidia-curand-cu12==10.3.2.106 in /home/nirt/miniconda3/envs/detection_tools/lib/python3.8/site-packages (from torch>=2->torchdata) (10.3.2.106)\n",
            "Requirement already satisfied: nvidia-cusolver-cu12==11.4.5.107 in /home/nirt/miniconda3/envs/detection_tools/lib/python3.8/site-packages (from torch>=2->torchdata) (11.4.5.107)\n",
            "Requirement already satisfied: nvidia-cusparse-cu12==12.1.0.106 in /home/nirt/miniconda3/envs/detection_tools/lib/python3.8/site-packages (from torch>=2->torchdata) (12.1.0.106)\n",
            "Requirement already satisfied: nvidia-nccl-cu12==2.20.5 in /home/nirt/miniconda3/envs/detection_tools/lib/python3.8/site-packages (from torch>=2->torchdata) (2.20.5)\n",
            "Requirement already satisfied: nvidia-nvtx-cu12==12.1.105 in /home/nirt/miniconda3/envs/detection_tools/lib/python3.8/site-packages (from torch>=2->torchdata) (12.1.105)\n",
            "Requirement already satisfied: triton==2.3.1 in /home/nirt/miniconda3/envs/detection_tools/lib/python3.8/site-packages (from torch>=2->torchdata) (2.3.1)\n",
            "Requirement already satisfied: nvidia-nvjitlink-cu12 in /home/nirt/miniconda3/envs/detection_tools/lib/python3.8/site-packages (from nvidia-cusolver-cu12==11.4.5.107->torch>=2->torchdata) (12.5.82)\n",
            "Requirement already satisfied: charset-normalizer<4,>=2 in /home/nirt/miniconda3/envs/detection_tools/lib/python3.8/site-packages (from requests->torchdata) (3.3.2)\n",
            "Requirement already satisfied: idna<4,>=2.5 in /home/nirt/miniconda3/envs/detection_tools/lib/python3.8/site-packages (from requests->torchdata) (3.6)\n",
            "Requirement already satisfied: certifi>=2017.4.17 in /home/nirt/miniconda3/envs/detection_tools/lib/python3.8/site-packages (from requests->torchdata) (2023.11.17)\n",
            "Requirement already satisfied: MarkupSafe>=2.0 in /home/nirt/miniconda3/envs/detection_tools/lib/python3.8/site-packages (from jinja2->torch>=2->torchdata) (2.1.4)\n",
            "Requirement already satisfied: mpmath>=0.19 in /home/nirt/miniconda3/envs/detection_tools/lib/python3.8/site-packages (from sympy->torch>=2->torchdata) (1.3.0)\n",
            "Requirement already satisfied: portalocker in /home/nirt/miniconda3/envs/detection_tools/lib/python3.8/site-packages (2.10.1)\n"
          ]
        }
      ],
      "source": [
        "# this part uses the Wikitext-2 dataset. To access torchtext datasets, please install `torchdata`:\n",
        "# `pip install torchdata` ir `conda install -c pytorch torchdata` in activated environment\n",
        "# or `!pip install torchdata` on colab.\n",
        "!pip install torchdata\n",
        "# notes:\n",
        "# torch=2.0.0 <-> torchtext 0.15.1\n",
        "# torch=1.13.0 <-> torchtext 0.14.0\n",
        "# torch=1.12.1 <-> torchtext 0.13.1\n",
        "# downgrading torchtext example: !pip install torchtext==0.13.1 --no-deps\n",
        "# torchtext requires the `portalocker` package to download datasets:\n",
        "!pip install portalocker"
      ]
    },
    {
      "cell_type": "code",
      "execution_count": null,
      "metadata": {
        "id": "HaFdoJWLGRs_",
        "outputId": "75696bc0-e668-4a91-988a-2c8d79fd830f"
      },
      "outputs": [
        {
          "name": "stderr",
          "output_type": "stream",
          "text": [
            "/home/nirt/miniconda3/envs/detection_tools/lib/python3.8/site-packages/torchtext/datasets/__init__.py:4: UserWarning: \n",
            "/!\\ IMPORTANT WARNING ABOUT TORCHTEXT STATUS /!\\ \n",
            "Torchtext is deprecated and the last released version will be 0.18 (this one). You can silence this warning by calling the following at the beginnign of your scripts: `import torchtext; torchtext.disable_torchtext_deprecation_warning()`\n",
            "  warnings.warn(torchtext._TORCHTEXT_DEPRECATION_MSG)\n",
            "/home/nirt/miniconda3/envs/detection_tools/lib/python3.8/site-packages/torchtext/data/__init__.py:4: UserWarning: \n",
            "/!\\ IMPORTANT WARNING ABOUT TORCHTEXT STATUS /!\\ \n",
            "Torchtext is deprecated and the last released version will be 0.18 (this one). You can silence this warning by calling the following at the beginnign of your scripts: `import torchtext; torchtext.disable_torchtext_deprecation_warning()`\n",
            "  warnings.warn(torchtext._TORCHTEXT_DEPRECATION_MSG)\n",
            "/home/nirt/miniconda3/envs/detection_tools/lib/python3.8/site-packages/torchtext/vocab/__init__.py:4: UserWarning: \n",
            "/!\\ IMPORTANT WARNING ABOUT TORCHTEXT STATUS /!\\ \n",
            "Torchtext is deprecated and the last released version will be 0.18 (this one). You can silence this warning by calling the following at the beginnign of your scripts: `import torchtext; torchtext.disable_torchtext_deprecation_warning()`\n",
            "  warnings.warn(torchtext._TORCHTEXT_DEPRECATION_MSG)\n",
            "/home/nirt/miniconda3/envs/detection_tools/lib/python3.8/site-packages/torchtext/utils.py:4: UserWarning: \n",
            "/!\\ IMPORTANT WARNING ABOUT TORCHTEXT STATUS /!\\ \n",
            "Torchtext is deprecated and the last released version will be 0.18 (this one). You can silence this warning by calling the following at the beginnign of your scripts: `import torchtext; torchtext.disable_torchtext_deprecation_warning()`\n",
            "  warnings.warn(torchtext._TORCHTEXT_DEPRECATION_MSG)\n"
          ]
        },
        {
          "data": {
            "text/plain": [
              "<torch._C.Generator at 0x7f8c012023b0>"
            ]
          },
          "execution_count": 2,
          "metadata": {},
          "output_type": "execute_result"
        }
      ],
      "source": [
        "# imports for the practice (you can add more if you need)\n",
        "import numpy as np\n",
        "import matplotlib.pyplot as plt\n",
        "import time\n",
        "import os\n",
        "import math\n",
        "from typing import Tuple\n",
        "\n",
        "# pytorch\n",
        "import torch\n",
        "from torch import nn, Tensor\n",
        "import torch.nn.functional as F\n",
        "from torch.nn import TransformerEncoder, TransformerEncoderLayer\n",
        "from torch.utils.data import dataset\n",
        "\n",
        "# torchtext\n",
        "import torchtext\n",
        "from torchtext.datasets import WikiText2\n",
        "from torchtext.data.utils import get_tokenizer\n",
        "from torchtext.vocab import build_vocab_from_iterator\n",
        "\n",
        "seed = 211\n",
        "np.random.seed(seed)\n",
        "torch.manual_seed(seed)"
      ]
    },
    {
      "cell_type": "code",
      "execution_count": null,
      "metadata": {
        "id": "Un41sOREGRtA",
        "outputId": "afb9bffc-a76b-49d7-c905-2f32800a002e"
      },
      "outputs": [
        {
          "name": "stdout",
          "output_type": "stream",
          "text": [
            "pytorch: 2.3.1+cu121, torchtext: 0.18.0+cpu\n"
          ]
        }
      ],
      "source": [
        "print(f'pytorch: {torch.__version__}, torchtext: {torchtext.__version__}')"
      ]
    },
    {
      "cell_type": "markdown",
      "metadata": {
        "id": "byIdjiz6GRtA"
      },
      "source": [
        "## <img src=\"https://img.icons8.com/bubbles/50/000000/workflow.png\" style=\"height:50px;display:inline\">  Sequence-to-Sequence with Transformers\n",
        "---\n",
        "* In this exercise, you are going to build a language model using PyTroch's Transformer module.\n",
        "* We will work with the **Wikitext-2** dataset: the WikiText language modeling dataset is a collection of over 100 million tokens extracted from the set of verified Good and Featured articles on Wikipedia.\n",
        "* After training, you will be able to generate senetences!"
      ]
    },
    {
      "cell_type": "markdown",
      "metadata": {
        "id": "60RD9kh7GRtA"
      },
      "source": [
        "### <img src=\"https://img.icons8.com/color/48/000000/code.png\" style=\"height:50px;display:inline\"> Task 1  - Loading and Observing the Data\n",
        "---\n",
        "1. Run the following cells that define the functions `batchify` and `data_process` and initialize the tokenizer, vocabulary and the WikiText2 train dataset.\n",
        "2. Create the train, valid and test data using the provided `batchify` function.\n",
        "5. Print the shape of `train_data`, write in a comment the meaning of each dimension (e.g. `# [meaning of dim1, meaning of dim2]`).\n",
        "6. Print the first 20 words of one training sample from `train_data`. Use the vocabulary you built to transfer between tokens to words: `itos = vocab.vocab.get_itos()` will give a \"int to string\" list."
      ]
    },
    {
      "cell_type": "code",
      "execution_count": null,
      "metadata": {
        "id": "VMv6gAnSGRtB"
      },
      "outputs": [],
      "source": [
        "def batchify(data, bsz):\n",
        "    \"\"\"Divides the data into bsz separate sequences, removing extra elements\n",
        "    that wouldn't cleanly fit.\n",
        "\n",
        "    Args:\n",
        "        data: Tensor, shape [N]\n",
        "        bsz: int, batch size\n",
        "\n",
        "    Returns:\n",
        "        Tensor of shape [N // bsz, bsz]\n",
        "    \"\"\"\n",
        "    seq_len = data.size(0) // bsz\n",
        "    data = data[:seq_len * bsz]\n",
        "    data = data.view(bsz, seq_len).t().contiguous()\n",
        "    return data.to(device)"
      ]
    },
    {
      "cell_type": "code",
      "execution_count": null,
      "metadata": {
        "id": "XRz6zPhIGRtB"
      },
      "outputs": [],
      "source": [
        "def data_process(raw_text_iter: dataset.IterableDataset) -> Tensor:\n",
        "    \"\"\"Converts raw text into a flat Tensor.\"\"\"\n",
        "    data = [torch.tensor(vocab(tokenizer(item)), dtype=torch.long) for item in raw_text_iter]\n",
        "    return torch.cat(tuple(filter(lambda t: t.numel() > 0, data)))"
      ]
    },
    {
      "cell_type": "code",
      "execution_count": null,
      "metadata": {
        "id": "BseXMUh1GRtB"
      },
      "outputs": [],
      "source": [
        "train_iter = WikiText2(root=\"./data\", split='train')\n",
        "tokenizer = get_tokenizer('basic_english')\n",
        "vocab = build_vocab_from_iterator(map(tokenizer, train_iter), specials=['<unk>'])\n",
        "vocab.set_default_index(vocab['<unk>'])"
      ]
    },
    {
      "cell_type": "code",
      "execution_count": null,
      "metadata": {
        "id": "wSzrXpjnGRtB"
      },
      "outputs": [],
      "source": [
        "# train_iter was \"consumed\" by the process of building the vocab,\n",
        "# so we have to create it again\n",
        "train_iter, val_iter, test_iter = WikiText2(root=\"./data\", split='train'),WikiText2(root=\"./data\", split='valid'),WikiText2(root=\"./data\", split='test')\n",
        "train_data = data_process(train_iter)\n",
        "val_data = data_process(val_iter)\n",
        "test_data = data_process(test_iter)\n",
        "\n",
        "device = torch.device('cuda:0' if torch.cuda.is_available() else 'cpu')"
      ]
    },
    {
      "cell_type": "code",
      "execution_count": null,
      "metadata": {
        "id": "zlwJliJ1GRtC"
      },
      "outputs": [],
      "source": [
        "batch_size = 20\n",
        "eval_batch_size = 10"
      ]
    },
    {
      "cell_type": "code",
      "execution_count": null,
      "metadata": {
        "id": "rOX6iZ-7GRtC"
      },
      "outputs": [],
      "source": []
    },
    {
      "cell_type": "code",
      "execution_count": null,
      "metadata": {
        "id": "JqBL2WIHGRtC",
        "outputId": "96e22a83-f17b-48b0-ea58-fb06c40b4dee"
      },
      "outputs": [
        {
          "name": "stdout",
          "output_type": "stream",
          "text": [
            "torch.Size([102499, 20])\n"
          ]
        }
      ],
      "source": [
        "\"\"\"\n",
        "Your Code Here\n",
        "\"\"\"\n",
        "train_data = batchify(train_data, batch_size)\n",
        "val_data = batchify(val_data, eval_batch_size)\n",
        "test_data = batchify(test_data, eval_batch_size)\n",
        "\n",
        "print(train_data.shape)\n",
        "# [sequence_length, batch_size]\n",
        "# sequence_length: number of time steps in each sequence\n",
        "# batch_size: number of separate sequences in a batch\n"
      ]
    },
    {
      "cell_type": "code",
      "execution_count": null,
      "metadata": {
        "id": "2dNiPp1GGRtD",
        "outputId": "9f8eb833-6447-4ace-a3cb-db03ded6a61e"
      },
      "outputs": [
        {
          "name": "stdout",
          "output_type": "stream",
          "text": [
            "['=', 'valkyria', 'chronicles', 'iii', '=', 'senjō', 'no', 'valkyria', '3', '<unk>', 'chronicles', '(', 'japanese', '戦場のヴァルキュリア3', ',', 'lit', '.', 'valkyria', 'of', 'the']\n"
          ]
        }
      ],
      "source": [
        "itos = vocab.get_itos()\n",
        "\n",
        "# Print the first 20 words from the first sequence in the training data\n",
        "first_seq = train_data[:, 0]  # Take the first sequence (all tokens)\n",
        "first_20_tokens = first_seq[:20]  # Take the first 20 tokens\n",
        "first_20_words = [itos[token] for token in first_20_tokens]\n",
        "print(first_20_words)"
      ]
    },
    {
      "cell_type": "markdown",
      "metadata": {
        "id": "pLvq1N_mGRtD"
      },
      "source": [
        "### <img src=\"https://img.icons8.com/color/48/000000/code.png\" style=\"height:50px;display:inline\"> Task 2  - Preparing the  Data - Separating to Inputs and Targets\n",
        "---\n",
        "* For a language modeling task, the model needs the following words as `Target`.\n",
        "    * For example, for the senetence \"I have a nice dog\", the model will be given \"I have a nice\" as input, and \"have a nice dog\" as the target.\n",
        "* Implement (complete) the function `get_batch(source, i, bptt)`: it generates the input and target sequence for the transformer model. It subdivides the source data into chunks of length `bptt`.\n",
        "    * For example, for `bptt=2` and at `i=0`, the output of `data, target = get_batch(train_data, i=0, bptt=2)`: `data` will be of shape (2, 20), where the batch size is 20 and `target` will be of length 40 (the target for each element is two words, but we flatten `target`).\n",
        "    * Example: for `bptt=2`, and the ABCDEFG... characters as input, our batches will be in the form of: `data=[a, b], target=[b, c]`. For `bptt=3`: `data=[a, b, c], target=[b, c, d]` and so on. This one example is a batch.\n",
        "    * Print a sample from `data` and `target`."
      ]
    },
    {
      "cell_type": "code",
      "execution_count": null,
      "metadata": {
        "id": "HoC0-R8mGRtE"
      },
      "outputs": [],
      "source": [
        "\"\"\"\n",
        "Your Code Here\n",
        "\"\"\"\n",
        "def get_batch(source, i, bptt):\n",
        "    \"\"\"\n",
        "    Args:\n",
        "        source: Tensor, shape [full_seq_len, batch_size]\n",
        "        i: int\n",
        "        bptt: int\n",
        "    Returns:\n",
        "        tuple (data, target), where data has shape [seq_len, batch_size] and\n",
        "        target has shape [seq_len * batch_size]\n",
        "    \"\"\"\n",
        "    seq_len = min(bptt, len(source) - 1 - i)\n",
        "    data = source[i:i + seq_len]\n",
        "    target = source[i + 1:i + 1 + seq_len].reshape(-1)\n",
        "    return data, target"
      ]
    },
    {
      "cell_type": "markdown",
      "metadata": {
        "id": "dmaCCKYgGRtE"
      },
      "source": [
        "### <img src=\"https://img.icons8.com/color/48/000000/code.png\" style=\"height:50px;display:inline\"> Task 3  - Define Hyperparameters and Initialize the Model\n",
        "---\n",
        "* Define the following hyperparameters (`[a, b]` means in the range between `a` and `b`):\n",
        "    * Embedding size: choose from `[200, 250]`\n",
        "    * Number of hidden units: choose from `[200, 250]`\n",
        "    * Number of layers: choose from `[2, 4]`\n",
        "    * Number of attention heads: choose from `[2, 4]`\n",
        "    * Dropout: choose from `[0.0, 0.3]`\n",
        "    * Loss criterion: `nn.CrossEntropyLoss()`\n",
        "    * Optimizer: choose from `[SGD, Adam, RAdam]`\n",
        "    * Learning rate: choose from `[5e-3, 5.0]`\n",
        "    * Learning Scheduler: `torch.optim.lr_scheduler.StepLR(optimizer, 1.0, gamma=0.95)` or any scheduler of your choosing.\n",
        "    * Transformer LayerNormalization: `post` (`norm_first=False`) or `pre` (`norm_first=True`).\n",
        "* Intialize an instance of `TransformerModel` (given) and send it to `device`. Note that you need to give it the number of tokens to define the output of the decoder. You should use the number of tokens in the vocabulary. Print the number of tokens,  print **all** the chosen hyper-parameters and print the model (`print(model`)."
      ]
    },
    {
      "cell_type": "code",
      "execution_count": null,
      "metadata": {
        "id": "lCTumTbbGRtE"
      },
      "outputs": [],
      "source": [
        "class PositionalEncoding(nn.Module):\n",
        "\n",
        "    def __init__(self, d_model, dropout=0.1, max_len=5000):\n",
        "        super(PositionalEncoding, self).__init__()\n",
        "        self.dropout = nn.Dropout(p=dropout)\n",
        "\n",
        "        pe = torch.zeros(max_len, d_model)\n",
        "        position = torch.arange(0, max_len, dtype=torch.float).unsqueeze(1)\n",
        "        div_term = torch.exp(torch.arange(0, d_model, 2).float() * (-math.log(10000.0) / d_model))\n",
        "        pe[:, 0::2] = torch.sin(position * div_term)\n",
        "        pe[:, 1::2] = torch.cos(position * div_term)\n",
        "        pe = pe.unsqueeze(0).transpose(0, 1)\n",
        "        self.register_buffer('pe', pe)\n",
        "\n",
        "    def forward(self, x):\n",
        "        x = x + self.pe[:x.size(0), :]\n",
        "        return self.dropout(x)\n",
        "\n",
        "class TransformerModel(nn.Module):\n",
        "\n",
        "    def __init__(self, ntoken, ninp, nhead, nhid, nlayers, dropout=0.5, norm_first=False):\n",
        "        super(TransformerModel, self).__init__()\n",
        "        self.pos_encoder = PositionalEncoding(ninp, dropout)\n",
        "        encoder_layers = TransformerEncoderLayer(ninp, nhead, nhid, dropout, norm_first=norm_first)\n",
        "        self.transformer_encoder = TransformerEncoder(encoder_layers, nlayers)\n",
        "        self.encoder = nn.Embedding(ntoken, ninp)\n",
        "        self.ninp = ninp\n",
        "        self.decoder = nn.Linear(ninp, ntoken)\n",
        "\n",
        "        self.init_weights()\n",
        "\n",
        "    def generate_square_subsequent_mask(self, sz):\n",
        "        mask = (torch.triu(torch.ones(sz, sz)) == 1).transpose(0, 1)\n",
        "        mask = mask.float().masked_fill(mask == 0, float('-inf')).masked_fill(mask == 1, float(0.0))\n",
        "        return mask\n",
        "\n",
        "    def init_weights(self):\n",
        "        initrange = 0.1\n",
        "        self.encoder.weight.data.uniform_(-initrange, initrange)\n",
        "        self.decoder.bias.data.zero_()\n",
        "        self.decoder.weight.data.uniform_(-initrange, initrange)\n",
        "\n",
        "    def forward(self, src, src_mask):\n",
        "        src = self.encoder(src) * math.sqrt(self.ninp)\n",
        "        src = self.pos_encoder(src)\n",
        "        output = self.transformer_encoder(src, src_mask)\n",
        "        output = self.decoder(output)\n",
        "        return output"
      ]
    },
    {
      "cell_type": "code",
      "execution_count": null,
      "metadata": {
        "id": "rPsfx1OSGRtE",
        "outputId": "b9df50ee-8bb4-4486-8dbe-9c18a54279a5"
      },
      "outputs": [
        {
          "name": "stderr",
          "output_type": "stream",
          "text": [
            "/home/nirt/miniconda3/envs/detection_tools/lib/python3.8/site-packages/torch/nn/modules/transformer.py:306: UserWarning: enable_nested_tensor is True, but self.use_nested_tensor is False because encoder_layer.self_attn.batch_first was not True(use batch_first for better inference performance)\n",
            "  warnings.warn(f\"enable_nested_tensor is True, but self.use_nested_tensor is False because {why_not_sparsity_fast_path}\")\n"
          ]
        },
        {
          "name": "stdout",
          "output_type": "stream",
          "text": [
            "Embedding size: 240\n",
            "Number of hidden units: 240\n",
            "Number of layers: 3\n",
            "Number of attention heads: 3\n",
            "Dropout: 0.2\n",
            "Optimizer: Adam\n",
            "Learning rate: 0.005\n",
            "Learning Scheduler: StepLR with gamma=0.95\n",
            "Number of tokens in vocabulary: 28782\n",
            "TransformerModel(\n",
            "  (pos_encoder): PositionalEncoding(\n",
            "    (dropout): Dropout(p=0.2, inplace=False)\n",
            "  )\n",
            "  (transformer_encoder): TransformerEncoder(\n",
            "    (layers): ModuleList(\n",
            "      (0-2): 3 x TransformerEncoderLayer(\n",
            "        (self_attn): MultiheadAttention(\n",
            "          (out_proj): NonDynamicallyQuantizableLinear(in_features=240, out_features=240, bias=True)\n",
            "        )\n",
            "        (linear1): Linear(in_features=240, out_features=240, bias=True)\n",
            "        (dropout): Dropout(p=0.2, inplace=False)\n",
            "        (linear2): Linear(in_features=240, out_features=240, bias=True)\n",
            "        (norm1): LayerNorm((240,), eps=1e-05, elementwise_affine=True)\n",
            "        (norm2): LayerNorm((240,), eps=1e-05, elementwise_affine=True)\n",
            "        (dropout1): Dropout(p=0.2, inplace=False)\n",
            "        (dropout2): Dropout(p=0.2, inplace=False)\n",
            "      )\n",
            "    )\n",
            "  )\n",
            "  (encoder): Embedding(28782, 240)\n",
            "  (decoder): Linear(in_features=240, out_features=28782, bias=True)\n",
            ")\n"
          ]
        }
      ],
      "source": [
        "\"\"\"\n",
        "Your Code Here\n",
        "\"\"\"\n",
        "\n",
        "embedding_size = 240\n",
        "hidden_units = 240\n",
        "num_layers = 3\n",
        "num_attention_heads = 3\n",
        "dropout = 0.2\n",
        "ntokens = len(vocab)\n",
        "learning_rate = 5e-3\n",
        "norm_first=True\n",
        "\n",
        "model = TransformerModel(ntokens, embedding_size, num_attention_heads, hidden_units, num_layers, dropout, norm_first=False).to(device)\n",
        "\n",
        "criterion = nn.CrossEntropyLoss()\n",
        "\n",
        "# optimizer = torch.optim.Adam(model.parameters(), lr=learning_rate)\n",
        "optimizer = torch.optim.SGD(model.parameters(), lr=learning_rate, momentum=0.9)\n",
        "\n",
        "scheduler = torch.optim.lr_scheduler.StepLR(optimizer, step_size=1, gamma=0.95)\n",
        "\n",
        "\n",
        "\n",
        "print(f\"Embedding size: {embedding_size}\")\n",
        "print(f\"Number of hidden units: {hidden_units}\")\n",
        "print(f\"Number of layers: {num_layers}\")\n",
        "print(f\"Number of attention heads: {num_attention_heads}\")\n",
        "print(f\"Dropout: {dropout}\")\n",
        "print(f\"Optimizer: Adam\")\n",
        "print(f\"Learning rate: {learning_rate}\")\n",
        "print(f\"Learning Scheduler: StepLR with gamma=0.95\")\n",
        "\n",
        "print(f\"Number of tokens in vocabulary: {ntokens}\")\n",
        "print(model)\n"
      ]
    },
    {
      "cell_type": "markdown",
      "metadata": {
        "id": "-IatFv3EGRtF"
      },
      "source": [
        "### <img src=\"https://img.icons8.com/color/48/000000/code.png\" style=\"height:50px;display:inline\"> Task 4  - Train and Evaluate the Language Model\n",
        "---\n",
        "* Fill in the missing line in the training code and train the model.\n",
        "* Use `bptt=35`.\n",
        "* Use the provided function to evaluate it on the validatation set (after each epoch) and on test test (after training is done). **Print and plot** the results (loss and perplexity).\n",
        "* If you see that the performance does not improve, go back to Task 3 and re-think you hyper-parameters."
      ]
    },
    {
      "cell_type": "code",
      "execution_count": null,
      "metadata": {
        "id": "rDndFhFdGRtF"
      },
      "outputs": [],
      "source": [
        "def evaluate(model, eval_data):\n",
        "    model.eval()  # turn on evaluation mode\n",
        "    total_loss = 0.\n",
        "    src_mask = model.generate_square_subsequent_mask(bptt).to(device)\n",
        "    with torch.no_grad():\n",
        "        for i in range(0, eval_data.size(0) - 1, bptt):\n",
        "            data, targets = get_batch(eval_data, i, bptt)\n",
        "            seq_len = data.size(0)\n",
        "            if seq_len != bptt:\n",
        "                src_mask = src_mask[:seq_len, :seq_len]\n",
        "            output = model(data, src_mask)\n",
        "            output_flat = output.view(-1, ntokens)\n",
        "            total_loss += seq_len * criterion(output_flat, targets).item()\n",
        "    return total_loss / (len(eval_data) - 1)"
      ]
    },
    {
      "cell_type": "code",
      "execution_count": null,
      "metadata": {
        "id": "k65NOAs-GRtF"
      },
      "outputs": [],
      "source": [
        "\"\"\"\n",
        "Your Code Here\n",
        "\"\"\"\n",
        "def train(model, bptt):\n",
        "    model.train()  # turn on train mode\n",
        "    total_loss = 0.\n",
        "    log_interval = 200\n",
        "    start_time = time.time()\n",
        "    src_mask = model.generate_square_subsequent_mask(bptt).to(device)\n",
        "\n",
        "    num_batches = len(train_data) // bptt\n",
        "    for batch, i in enumerate(range(0, train_data.size(0) - 1, bptt)):\n",
        "        data, targets = get_batch(train_data, i, bptt)\n",
        "        seq_len = data.size(0)\n",
        "        if seq_len != bptt:  # only on last batch\n",
        "            src_mask = src_mask[:seq_len, :seq_len]\n",
        "        output = model(data, src_mask)\n",
        "        loss = criterion(output.view(-1, ntokens), targets)\n",
        "\n",
        "        optimizer.zero_grad()\n",
        "        loss.backward()\n",
        "        torch.nn.utils.clip_grad_norm_(model.parameters(), 0.5)\n",
        "        optimizer.step()\n",
        "\n",
        "        total_loss += loss.item()\n",
        "        if batch % log_interval == 0 and batch > 0:\n",
        "            lr = scheduler.get_last_lr()[0]\n",
        "            ms_per_batch = (time.time() - start_time) * 1000 / log_interval\n",
        "            cur_loss = total_loss / log_interval\n",
        "            ppl = math.exp(cur_loss)\n",
        "            # print(f'| epoch {epoch:3d} | {batch:5d}/{num_batches:5d} batches | '\n",
        "            #       f'lr {lr:02.2f} | ms/batch {ms_per_batch:5.2f} | '\n",
        "            #       f'loss {cur_loss:5.2f} | ppl {ppl:8.2f}')\n",
        "            total_loss = 0\n",
        "            start_time = time.time()\n",
        "    return total_loss / num_batches"
      ]
    },
    {
      "cell_type": "code",
      "execution_count": null,
      "metadata": {
        "id": "2A_DnhGMGRtG",
        "outputId": "197323c9-8892-4ba4-f336-37934c8422e3"
      },
      "outputs": [
        {
          "name": "stdout",
          "output_type": "stream",
          "text": [
            "-----------------------------------------------------------------------------------------\n",
            "end of epoch 1 | time: 51.71818709373474 s | valid loss 6.565193799449436 | valid ppl 709.9494706821152\n",
            "-----------------------------------------------------------------------------------------\n",
            "-----------------------------------------------------------------------------------------\n",
            "end of epoch 2 | time: 51.31590008735657 s | valid loss 6.344088938254029 | valid ppl 569.1186512178649\n",
            "-----------------------------------------------------------------------------------------\n",
            "-----------------------------------------------------------------------------------------\n",
            "end of epoch 3 | time: 51.59066128730774 s | valid loss 6.226142870623674 | valid ppl 505.8007771055508\n",
            "-----------------------------------------------------------------------------------------\n",
            "-----------------------------------------------------------------------------------------\n",
            "end of epoch 4 | time: 51.52333855628967 s | valid loss 6.142128961077377 | valid ppl 465.042575251829\n",
            "-----------------------------------------------------------------------------------------\n",
            "-----------------------------------------------------------------------------------------\n",
            "end of epoch 5 | time: 51.52759003639221 s | valid loss 6.08055182168288 | valid ppl 437.2704234555911\n",
            "-----------------------------------------------------------------------------------------\n",
            "-----------------------------------------------------------------------------------------\n",
            "end of epoch 6 | time: 51.57102656364441 s | valid loss 6.03132874440791 | valid ppl 416.2677755504259\n",
            "-----------------------------------------------------------------------------------------\n",
            "-----------------------------------------------------------------------------------------\n",
            "end of epoch 7 | time: 51.63786435127258 s | valid loss 5.991254590785325 | valid ppl 399.9160262866518\n",
            "-----------------------------------------------------------------------------------------\n",
            "-----------------------------------------------------------------------------------------\n",
            "end of epoch 8 | time: 51.56192183494568 s | valid loss 5.957912022164509 | valid ppl 386.80164722432835\n",
            "-----------------------------------------------------------------------------------------\n",
            "-----------------------------------------------------------------------------------------\n",
            "end of epoch 9 | time: 51.5121386051178 s | valid loss 5.9288367105286515 | valid ppl 375.71719165466163\n",
            "-----------------------------------------------------------------------------------------\n",
            "-----------------------------------------------------------------------------------------\n",
            "end of epoch 10 | time: 51.56111526489258 s | valid loss 5.903251237166462 | valid ppl 366.2262226627447\n",
            "-----------------------------------------------------------------------------------------\n"
          ]
        }
      ],
      "source": [
        "\"\"\"\n",
        "Your Code Here\n",
        "\"\"\"\n",
        "best_val_loss = float(\"inf\")\n",
        "epochs = 10\n",
        "best_model = None\n",
        "bptt = 35\n",
        "\n",
        "\n",
        "train_losses = []\n",
        "val_losses = []\n",
        "val_perplexities = []\n",
        "\n",
        "for epoch in range(1, epochs + 1):\n",
        "    epoch_start_time = time.time()\n",
        "\n",
        "    avg_train_loss = train(model, bptt)\n",
        "\n",
        "    val_loss = evaluate(model, val_data)\n",
        "    val_ppl = math.exp(val_loss)\n",
        "\n",
        "    train_losses.append(avg_train_loss)\n",
        "    val_losses.append(val_loss)\n",
        "    val_perplexities.append(val_ppl)\n",
        "    print('-' * 89)\n",
        "    print('end of epoch', epoch,\n",
        "        '| time:', time.time() - epoch_start_time, 's',\n",
        "        '| valid loss', val_loss,\n",
        "        '| valid ppl', math.exp(val_loss))\n",
        "    print('-' * 89)\n",
        "\n",
        "    if val_loss < best_val_loss:\n",
        "        best_val_loss = val_loss\n",
        "        best_model = model\n",
        "\n",
        "    if epoch == 2:\n",
        "        model_epoch_2 = model\n",
        "\n",
        "    if epoch == 5:\n",
        "        model_epoch_5 = model\n",
        "\n",
        "    scheduler.step()"
      ]
    },
    {
      "cell_type": "code",
      "execution_count": null,
      "metadata": {
        "id": "9friqRKuGRtG",
        "outputId": "1a68e505-9bdd-4b44-b55d-b211f712ea4d"
      },
      "outputs": [
        {
          "data": {
            "image/png": "[encoded data removed]",
            "text/plain": [
              "<Figure size 1200x500 with 2 Axes>"
            ]
          },
          "metadata": {},
          "output_type": "display_data"
        }
      ],
      "source": [
        "plt.figure(figsize=(12, 5))\n",
        "\n",
        "# Plot training and validation losses\n",
        "plt.subplot(1, 2, 1)\n",
        "plt.plot(range(1, epochs + 1), train_losses, label='Training Loss')\n",
        "plt.plot(range(1, epochs + 1), val_losses, label='Validation Loss')\n",
        "plt.xlabel('Epoch')\n",
        "plt.ylabel('Loss')\n",
        "plt.legend()\n",
        "plt.title('Training and Validation Loss')\n",
        "\n",
        "# Plot validation perplexity\n",
        "plt.subplot(1, 2, 2)\n",
        "plt.plot(range(1, epochs + 1), val_perplexities, label='Validation Perplexity', color='orange')\n",
        "plt.xlabel('Epoch')\n",
        "plt.ylabel('Perplexity')\n",
        "plt.legend()\n",
        "plt.title('Validation Perplexity')\n",
        "\n",
        "plt.tight_layout()\n",
        "plt.show()"
      ]
    },
    {
      "cell_type": "markdown",
      "metadata": {
        "id": "uFA-786pGRtH"
      },
      "source": [
        "### <img src=\"https://img.icons8.com/color/48/000000/code.png\" style=\"height:50px;display:inline\"> Task 5  - Generate Sentences\n",
        "---\n",
        "Use the following function to generate 3 sentences of length 20, and print them. Do they make sense? (you can compare generated sentences over epochs, to see if some logic is gained during training)."
      ]
    },
    {
      "cell_type": "code",
      "execution_count": null,
      "metadata": {
        "id": "ScDc3diMGRtH"
      },
      "outputs": [],
      "source": [
        "def generate(model, vocab, nwords=100, temp=1.0):\n",
        "    model.eval()\n",
        "    ntokens = len(vocab)\n",
        "    itos = vocab.vocab.get_itos()\n",
        "    model_input = torch.randint(ntokens, (1, 1), dtype=torch.long).to(device)\n",
        "    words = []\n",
        "    with torch.no_grad():\n",
        "        for i in range(nwords):\n",
        "            output = model(model_input, None)\n",
        "            word_weights = output[-1].squeeze().div(temp).exp().cpu()\n",
        "            word_idx = torch.multinomial(word_weights, 1)[0]\n",
        "            word_tensor = torch.Tensor([[word_idx]]).long().to(device)\n",
        "            model_input = torch.cat([model_input, word_tensor], 0)\n",
        "            word = itos[word_idx]\n",
        "            words.append(word)\n",
        "    return words"
      ]
    },
    {
      "cell_type": "code",
      "execution_count": null,
      "metadata": {
        "id": "2GDAjVMuGRtH",
        "outputId": "99283f82-824a-4a4f-9ee5-0f700aed99dd"
      },
      "outputs": [
        {
          "name": "stdout",
          "output_type": "stream",
          "text": [
            "Epoch 2:\n",
            "\n",
            "Sentence 1: in the lieutenant short era , <unk> castle as pain the characters . hoysala is the pass in one expo\n",
            "--------------------------------------------------\n",
            "Sentence 2: batch , and its marriage from a child , a speeds in money , including systems , including all bold\n",
            "--------------------------------------------------\n",
            "Sentence 3: seen of his position president ava and filming would becker . on to have been wielded little , iii @-@\n",
            "--------------------------------------------------\n",
            "Epoch 5:\n",
            "\n",
            "Sentence 1: operations chief before halls largely watched . they died to preserve the volunteers , turtle <unk> flares and other sweden\n",
            "--------------------------------------------------\n",
            "Sentence 2: , and <unk> , powered at 50 unwillingness was communication forested upstaged , as well as <unk> running , although\n",
            "--------------------------------------------------\n",
            "Sentence 3: = = = = cm in flag = television was ophelia surroundings species outreach he was archpriest of the game\n",
            "--------------------------------------------------\n",
            "best model:\n",
            "\n",
            "Sentence 1: in defeat and stephen . gene along the specific are and replaced , ross and historians ' interest to have\n",
            "--------------------------------------------------\n",
            "Sentence 2: into the world war . he was caldwell in neutrino , a female dubreuil north species , three small charity\n",
            "--------------------------------------------------\n",
            "Sentence 3: , his standing option , three and was made of the american sessions through navy script . = bring on\n",
            "--------------------------------------------------\n"
          ]
        }
      ],
      "source": [
        "\"\"\"\n",
        "Yout code Here\n",
        "\"\"\"\n",
        "\n",
        "num_sentences = 3\n",
        "sentence_length = 20\n",
        "\n",
        "print(\"Epoch 2:\\n\")\n",
        "for i in range(num_sentences):\n",
        "    sentence = generate(model_epoch_2, vocab, nwords=sentence_length)\n",
        "    print(f\"Sentence {i+1}: {' '.join(sentence)}\")\n",
        "    print('-' * 50)\n",
        "\n",
        "print(\"Epoch 5:\\n\")\n",
        "for i in range(num_sentences):\n",
        "    sentence = generate(model_epoch_5, vocab, nwords=sentence_length)\n",
        "    print(f\"Sentence {i+1}: {' '.join(sentence)}\")\n",
        "    print('-' * 50)\n",
        "\n",
        "print(\"best model:\\n\")\n",
        "for i in range(num_sentences):\n",
        "    sentence = generate(best_model, vocab, nwords=sentence_length)\n",
        "    print(f\"Sentence {i+1}: {' '.join(sentence)}\")\n",
        "    print('-' * 50)"
      ]
    },
    {
      "cell_type": "markdown",
      "metadata": {
        "id": "IYkxge1oGRtI"
      },
      "source": [
        "## <img src=\"https://img.icons8.com/dusk/64/000000/prize.png\" style=\"height:50px;display:inline\"> Credits\n",
        "---\n",
        "* Icons made by <a href=\"https://www.flaticon.com/authors/becris\" title=\"Becris\">Becris</a> from <a href=\"https://www.flaticon.com/\" title=\"Flaticon\">www.flaticon.com</a>\n",
        "* Icons from <a href=\"https://icons8.com/\">Icons8.com</a> - https://icons8.com\n",
        "* Datasets from <a href=\"https://www.kaggle.com/\">Kaggle</a> - https://www.kaggle.com/"
      ]
    }
  ],
  "metadata": {
    "kernelspec": {
      "display_name": "Python 3 (ipykernel)",
      "language": "python",
      "name": "python3"
    },
    "language_info": {
      "codemirror_mode": {
        "name": "ipython",
        "version": 3
      },
      "file_extension": ".py",
      "mimetype": "text/x-python",
      "name": "python",
      "nbconvert_exporter": "python",
      "pygments_lexer": "ipython3",
      "version": "3.8.18"
    },
    "colab": {
      "provenance": []
    }
  },
  "nbformat": 4,
  "nbformat_minor": 0
}